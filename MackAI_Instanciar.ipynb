{
  "nbformat": 4,
  "nbformat_minor": 0,
  "metadata": {
    "colab": {
      "provenance": [],
      "collapsed_sections": [
        "F91rIYMFTtJ9"
      ],
      "authorship_tag": "ABX9TyM4g37EJvXL/PLdk3a/iv9g",
      "include_colab_link": true
    },
    "kernelspec": {
      "name": "python3",
      "display_name": "Python 3"
    },
    "language_info": {
      "name": "python"
    }
  },
  "cells": [
    {
      "cell_type": "markdown",
      "metadata": {
        "id": "view-in-github",
        "colab_type": "text"
      },
      "source": [
        "<a href=\"https://colab.research.google.com/github/rafavidal1709/mack-ai-plataforma/blob/main/MackAI_Instanciar.ipynb\" target=\"_parent\"><img src=\"https://colab.research.google.com/assets/colab-badge.svg\" alt=\"Open In Colab\"/></a>"
      ]
    },
    {
      "cell_type": "code",
      "source": [
        "PROJECT_ID = \"mackai-468422\"\n",
        "ROOT_KEY = \"aA!12345\"\n",
        "DB_NAME = \"mackai\"\n",
        "REGION=\"us-central1\"\n",
        "REPO=\"cloud-run\""
      ],
      "metadata": {
        "id": "dy019rAgRC8U"
      },
      "execution_count": null,
      "outputs": []
    },
    {
      "cell_type": "markdown",
      "source": [
        "# CloudSQL"
      ],
      "metadata": {
        "id": "UfUY4dFbRO7s"
      }
    },
    {
      "cell_type": "code",
      "execution_count": null,
      "metadata": {
        "id": "-yWAPF7b1hhE"
      },
      "outputs": [],
      "source": [
        "from google.colab import auth\n",
        "auth.authenticate_user()"
      ]
    },
    {
      "cell_type": "code",
      "source": [
        "!pip -q install cloud-sql-python-connector\n",
        "!pip -q install pymysql sqlalchemy"
      ],
      "metadata": {
        "colab": {
          "base_uri": "https://localhost:8080/"
        },
        "id": "xKNWefIJRxn1",
        "outputId": "39b3834b-1652-4651-fe48-ad59510263ff"
      },
      "execution_count": null,
      "outputs": [
        {
          "output_type": "stream",
          "name": "stdout",
          "text": [
            "\u001b[2K   \u001b[90m━━━━━━━━━━━━━━━━━━━━━━━━━━━━━━━━━━━━━━━━\u001b[0m \u001b[32m49.3/49.3 kB\u001b[0m \u001b[31m620.5 kB/s\u001b[0m eta \u001b[36m0:00:00\u001b[0m\n",
            "\u001b[2K   \u001b[90m━━━━━━━━━━━━━━━━━━━━━━━━━━━━━━━━━━━━━━━━\u001b[0m \u001b[32m313.6/313.6 kB\u001b[0m \u001b[31m2.4 MB/s\u001b[0m eta \u001b[36m0:00:00\u001b[0m\n",
            "\u001b[2K   \u001b[90m━━━━━━━━━━━━━━━━━━━━━━━━━━━━━━━━━━━━━━━━\u001b[0m \u001b[32m45.0/45.0 kB\u001b[0m \u001b[31m801.7 kB/s\u001b[0m eta \u001b[36m0:00:00\u001b[0m\n",
            "\u001b[?25h"
          ]
        }
      ]
    },
    {
      "cell_type": "code",
      "source": [
        "from googleapiclient.discovery import build\n",
        "\n",
        "def print_instances():\n",
        "  sqladmin = build(\"sqladmin\", \"v1beta4\", cache_discovery=False)\n",
        "  req = sqladmin.instances().list(project=PROJECT_ID)\n",
        "  resp = req.execute()\n",
        "\n",
        "  print(\"===== Instancias: =====\")\n",
        "\n",
        "  for inst in resp.get(\"items\", []):\n",
        "      print(f\"Instância: {inst['name']} | Tipo: {inst['databaseVersion']} | Regiao: {inst['region']} | IPs: {inst.get('ipAddresses', [])}\")\n",
        "\n",
        "  print(\"=======================\")\n",
        "\n",
        "print_instances()"
      ],
      "metadata": {
        "colab": {
          "base_uri": "https://localhost:8080/"
        },
        "id": "0OSv9THSR25q",
        "outputId": "bce4c4c8-b525-493f-e511-e743a414bfdd"
      },
      "execution_count": null,
      "outputs": [
        {
          "output_type": "stream",
          "name": "stdout",
          "text": [
            "===== Instancias: =====\n",
            "=======================\n"
          ]
        }
      ]
    },
    {
      "cell_type": "code",
      "source": [
        "!gcloud sql instances create {DB_NAME} \\\n",
        "  --database-version=MYSQL_8_0 \\\n",
        "  --tier=db-f1-micro \\\n",
        "  --region=us-central1 \\\n",
        "  --root-password={ROOT_KEY} \\\n",
        "  --project={PROJECT_ID}\n"
      ],
      "metadata": {
        "colab": {
          "base_uri": "https://localhost:8080/"
        },
        "id": "L4iUAAzpR8j9",
        "outputId": "f6154d58-0c4a-4e2c-8c9f-4ba052066e37"
      },
      "execution_count": null,
      "outputs": [
        {
          "output_type": "stream",
          "name": "stdout",
          "text": [
            "Created [https://sqladmin.googleapis.com/sql/v1beta4/projects/mackai-468422/instances/mackai].\n",
            "NAME    DATABASE_VERSION  LOCATION       TIER         PRIMARY_ADDRESS  PRIVATE_ADDRESS  STATUS\n",
            "mackai  MYSQL_8_0         us-central1-c  db-f1-micro  34.63.216.169    -                RUNNABLE\n"
          ]
        }
      ]
    },
    {
      "cell_type": "code",
      "source": [
        "!gcloud sql instances patch {DB_NAME} \\\n",
        "  --project={PROJECT_ID} \\\n",
        "  --assign-ip\n"
      ],
      "metadata": {
        "colab": {
          "base_uri": "https://localhost:8080/"
        },
        "id": "05kLlgkGSCwj",
        "outputId": "6f29219b-2e63-4f6d-a137-26e262a4e3ca"
      },
      "execution_count": null,
      "outputs": [
        {
          "output_type": "stream",
          "name": "stdout",
          "text": [
            "The following message will be used for the patch API method.\n",
            "{\"name\": \"mackai\", \"project\": \"mackai-468422\", \"settings\": {\"ipConfiguration\": {\"ipv4Enabled\": true}}}\n",
            "Updated [https://sqladmin.googleapis.com/sql/v1beta4/projects/mackai-468422/instances/mackai].\n"
          ]
        }
      ]
    },
    {
      "cell_type": "code",
      "source": [
        "print_instances()"
      ],
      "metadata": {
        "id": "GZbnFYq2SE0U"
      },
      "execution_count": null,
      "outputs": []
    },
    {
      "cell_type": "code",
      "source": [
        "!gcloud sql instances patch {DB_NAME} \\\n",
        "  --project={PROJECT_ID} \\\n",
        "  --authorized-networks=0.0.0.0/0 \\\n",
        "  --quiet\n"
      ],
      "metadata": {
        "colab": {
          "base_uri": "https://localhost:8080/"
        },
        "id": "4ha_zxZGSHf4",
        "outputId": "17b2e684-3522-4b07-ea70-83b490e85c7f"
      },
      "execution_count": null,
      "outputs": [
        {
          "output_type": "stream",
          "name": "stdout",
          "text": [
            "The following message will be used for the patch API method.\n",
            "{\"name\": \"mackai\", \"project\": \"mackai-468422\", \"settings\": {\"ipConfiguration\": {\"authorizedNetworks\": [{\"value\": \"0.0.0.0/0\"}]}}}\n",
            "Updated [https://sqladmin.googleapis.com/sql/v1beta4/projects/mackai-468422/instances/mackai].\n"
          ]
        }
      ]
    },
    {
      "cell_type": "code",
      "source": [
        "from google.cloud.sql.connector import Connector\n",
        "import sqlalchemy\n",
        "from sqlalchemy import text, inspect\n",
        "import requests  # <— novo\n",
        "\n",
        "CONNECTION_NAME = f\"{PROJECT_ID}:us-central1:{DB_NAME}\"  # NOTE: deve ser PROJECT:REGION:INSTANCE\n",
        "\n",
        "connector = Connector()\n",
        "\n",
        "def getconn_sys():\n",
        "    return connector.connect(CONNECTION_NAME, \"pymysql\",\n",
        "                             user=\"root\", password=ROOT_KEY, db=\"mysql\")\n",
        "\n",
        "engine_sys = sqlalchemy.create_engine(\"mysql+pymysql://\", creator=getconn_sys)\n",
        "\n",
        "def getconn_app():\n",
        "    return connector.connect(CONNECTION_NAME, \"pymysql\",\n",
        "                             user=\"root\", password=ROOT_KEY, db=DB_NAME)\n",
        "\n",
        "engine = sqlalchemy.create_engine(\"mysql+pymysql://\", creator=getconn_app)\n",
        "\n",
        "with engine_sys.begin() as conn:\n",
        "    conn.execute(text(f\"CREATE DATABASE IF NOT EXISTS {DB_NAME} \"\n",
        "                      \"CHARACTER SET utf8mb4 COLLATE utf8mb4_0900_ai_ci\"))\n",
        "\n",
        "# --- lê o arquivo .sql diretamente do GitHub (raw) ---\n",
        "RAW_SQL_URL = \"https://raw.githubusercontent.com/rafavidal1709/mack-ai-plataforma/main/ecovir28_mackai.sql\"\n",
        "resp = requests.get(RAW_SQL_URL, timeout=60)\n",
        "resp.raise_for_status()\n",
        "sql_script = resp.text.replace(\"\\r\\n\", \"\\n\").lstrip(\"\\ufeff\")  # normaliza EOL e remove BOM\n",
        "\n",
        "# (opcional) se seu MySQL for 5.7, troque o collation 0900 por um compatível:\n",
        "# sql_script = sql_script.replace(\"utf8mb4_0900_ai_ci\", \"utf8mb4_unicode_ci\")\n",
        "\n",
        "# divide em comandos (simples: por ;)\n",
        "commands = [cmd.strip() for cmd in sql_script.split(\";\") if cmd.strip()]\n",
        "\n",
        "with engine.begin() as conn:   # begin() já faz commit\n",
        "    for cmd in commands:\n",
        "        conn.execute(text(cmd))\n",
        "\n",
        "insp = inspect(engine)\n",
        "tables = insp.get_table_names()\n",
        "print(\"Tabelas:\", tables, \"\\n\")\n",
        "\n",
        "with engine.connect() as conn:\n",
        "    for tbl in tables:\n",
        "        print(f\"\\n===== {tbl} =====\")\n",
        "        result = conn.execute(text(f\"SELECT * FROM `{tbl}` LIMIT 10\"))  # LIMIT para não trazer tudo\n",
        "        rows = result.fetchall()\n",
        "        if not rows:\n",
        "            print(\"(vazia)\")\n",
        "        else:\n",
        "            for row in rows:\n",
        "                print(row)\n"
      ],
      "metadata": {
        "colab": {
          "base_uri": "https://localhost:8080/"
        },
        "id": "LTaERYynSkre",
        "outputId": "6606f603-d367-4b48-869f-7bc49340aae4"
      },
      "execution_count": null,
      "outputs": [
        {
          "output_type": "stream",
          "name": "stdout",
          "text": [
            "Tabelas: ['encontro', 'grupo', 'periodo'] \n",
            "\n",
            "\n",
            "===== encontro =====\n",
            "(1, 1, 2, datetime.datetime(2024, 8, 12, 21, 0), 'A história do Perceptron', 'Visão geral sobre o Perceptron, sua história e importância no desenvolvimento do campo do aprendizado de máquina. ', 'rc9cFq8M-Ys', datetime.datetime(2025, 8, 12, 15, 58, 44), datetime.datetime(2025, 8, 12, 19, 23, 30))\n",
            "(2, 1, 2, datetime.datetime(2024, 8, 19, 21, 0), 'Treinando a Rede', 'Para treinar a rede usa-se o algorítimo de backpropagation', 'rc9cFq8M-Ys', datetime.datetime(2025, 8, 12, 15, 58, 44), datetime.datetime(2025, 8, 12, 19, 23, 33))\n",
            "\n",
            "===== grupo =====\n",
            "(1, 'Aprendizagem de Máquina', datetime.datetime(2025, 8, 12, 12, 53, 33), datetime.datetime(2025, 8, 12, 12, 53, 33))\n",
            "(2, 'Processamento de Linguagem Natural', datetime.datetime(2025, 8, 12, 12, 53, 33), datetime.datetime(2025, 8, 12, 12, 53, 33))\n",
            "(3, 'Ética', datetime.datetime(2025, 8, 12, 12, 53, 33), datetime.datetime(2025, 8, 12, 12, 53, 33))\n",
            "(4, 'Projetos', datetime.datetime(2025, 8, 12, 12, 53, 33), datetime.datetime(2025, 8, 12, 12, 53, 33))\n",
            "\n",
            "===== periodo =====\n",
            "(1, '2024/1', datetime.datetime(2025, 8, 12, 12, 54, 42), datetime.datetime(2025, 8, 12, 12, 54, 42))\n",
            "(2, '2024/2', datetime.datetime(2025, 8, 12, 12, 54, 42), datetime.datetime(2025, 8, 12, 12, 54, 42))\n",
            "(3, '2025/1', datetime.datetime(2025, 8, 12, 12, 54, 42), datetime.datetime(2025, 8, 12, 12, 54, 42))\n",
            "(4, '2025/2', datetime.datetime(2025, 8, 12, 12, 54, 42), datetime.datetime(2025, 8, 12, 12, 54, 42))\n"
          ]
        }
      ]
    },
    {
      "cell_type": "code",
      "source": [
        "ip = !gcloud sql instances describe {DB_NAME} \\\n",
        "        --project={PROJECT_ID} \\\n",
        "        --format=\"value(ipAddresses.ipAddress)\"\n",
        "\n",
        "PRIMARY_ADDRESS = ip[0]\n",
        "print(\"HOST =\", PRIMARY_ADDRESS)\n",
        "print(\"DBNAME =\", DB_NAME)\n",
        "print(\"USER =\", \"root\")\n",
        "print(\"PASS =\", ROOT_KEY)"
      ],
      "metadata": {
        "colab": {
          "base_uri": "https://localhost:8080/"
        },
        "id": "D2R-gDBbVR62",
        "outputId": "9345a1d3-79e1-49a5-e416-5d69843bb652"
      },
      "execution_count": null,
      "outputs": [
        {
          "metadata": {
            "tags": null
          },
          "name": "stdout",
          "output_type": "stream",
          "text": [
            "HOST = 34.63.216.169\n",
            "DBNAME = mackai\n",
            "USER = root\n",
            "PASS = aA!12345\n"
          ]
        }
      ]
    },
    {
      "cell_type": "code",
      "source": [
        "!gcloud sql instances patch {DB_NAME} \\\n",
        "  --project={PROJECT_ID} \\\n",
        "  --no-deletion-protection\n",
        "\n",
        "!gcloud sql instances delete {DB_NAME} --project={PROJECT_ID} --quiet"
      ],
      "metadata": {
        "colab": {
          "base_uri": "https://localhost:8080/"
        },
        "id": "06WFbmPwPPqS",
        "outputId": "433fdf41-fd8f-4166-ce46-276c75a2cad5"
      },
      "execution_count": null,
      "outputs": [
        {
          "output_type": "stream",
          "name": "stdout",
          "text": [
            "\u001b[1;31mERROR:\u001b[0m (gcloud.sql.instances.patch) unrecognized arguments:\n",
            "  --\n",
            "  quiet\n",
            "  To search the help text of gcloud commands, run:\n",
            "  gcloud help -- SEARCH_TERMS\n",
            "Deleted [https://sqladmin.googleapis.com/sql/v1beta4/projects/mackai-468422/instances/mackai].\n"
          ]
        }
      ]
    },
    {
      "cell_type": "markdown",
      "source": [
        "# Instanciar CloudRUN"
      ],
      "metadata": {
        "id": "-jGT_0zFTds7"
      }
    },
    {
      "cell_type": "code",
      "source": [
        "import os\n",
        "os.environ.update({\n",
        "  \"PROJECT_ID\": PROJECT_ID,\n",
        "  \"REGION\": REGION,\n",
        "  \"REPO\": \"cloud-run\",\n",
        "  \"SERVICE\": \"php-service\",\n",
        "  \"PRIMARY_ADDRESS\": PRIMARY_ADDRESS,  # ou defina DB_HOST direto\n",
        "  \"DB_NAME\": DB_NAME,\n",
        "  \"DB_USER\": \"root\",\n",
        "  \"DB_PASS\": ROOT_KEY\n",
        "})\n"
      ],
      "metadata": {
        "id": "D4XZjaZ4ZHHi"
      },
      "execution_count": null,
      "outputs": []
    },
    {
      "cell_type": "code",
      "source": [
        "%%bash\n",
        "set -euo pipefail\n",
        "\n",
        "#####################################\n",
        "# VARS GLOBAIS (já definidas via os.environ)\n",
        "#####################################\n",
        ": \"${PROJECT_ID:?Defina PROJECT_ID antes}\"\n",
        ": \"${REGION:?Defina REGION antes}\"\n",
        ": \"${REPO:?Defina REPO antes}\"              # ex: cloud-run\n",
        ": \"${SERVICE:?Defina SERVICE antes}\"        # ex: php-service\n",
        "\n",
        "# DB_HOST pode vir de DB_HOST ou PRIMARY_ADDRESS\n",
        "DB_HOST=\"${DB_HOST:-${PRIMARY_ADDRESS:-}}\"\n",
        ": \"${DB_HOST:?Defina DB_HOST ou PRIMARY_ADDRESS antes}\"\n",
        ": \"${DB_NAME:?Defina DB_NAME antes}\"\n",
        ": \"${DB_USER:?Defina DB_USER antes}\"\n",
        ": \"${DB_PASS:?Defina DB_PASS antes}\"\n",
        "\n",
        "# Tag única p/ nova revisão\n",
        "IMAGE_TAG=\"${IMAGE_TAG:-$(date +%Y%m%d-%H%M%S)}\"\n",
        "IMAGE_URI=\"${REGION}-docker.pkg.dev/${PROJECT_ID}/${REPO}/${SERVICE}:${IMAGE_TAG}\"\n",
        "\n",
        "# URL do seu repo (ajuste se for outro)\n",
        "GIT_URL=\"${GIT_URL:-https://github.com/rafavidal1709/mack-ai-plataforma.git}\"\n",
        "\n",
        "echo \"IMAGE_URI=$IMAGE_URI\"\n",
        "\n",
        "#####################################\n",
        "# CONFIG GCP\n",
        "#####################################\n",
        "gcloud config set project \"$PROJECT_ID\" >/dev/null\n",
        "gcloud config set run/region \"$REGION\" >/dev/null\n",
        "gcloud services enable artifactregistry.googleapis.com run.googleapis.com cloudbuild.googleapis.com -q\n",
        "gcloud artifacts repositories create \"$REPO\" \\\n",
        "  --repository-format=docker \\\n",
        "  --location=\"$REGION\" \\\n",
        "  --description=\"Repo para Cloud Run\" || true\n",
        "gcloud auth configure-docker \"${REGION}-docker.pkg.dev\" -q\n",
        "\n",
        "#####################################\n",
        "# SYNC DO CÓDIGO (GitHub → pasta local)\n",
        "#####################################\n",
        "if [ -d mack-ai-plataforma ]; then\n",
        "  pushd mack-ai-plataforma >/dev/null\n",
        "  git fetch --all\n",
        "  git reset --hard origin/main\n",
        "  popd >/dev/null\n",
        "else\n",
        "  git clone \"$GIT_URL\"\n",
        "fi\n",
        "\n",
        "#####################################\n",
        "# DOCKERFILE (garante pdo_mysql)\n",
        "#####################################\n",
        "cd mack-ai-plataforma/imagem\n",
        "\n",
        "# Cria/substitui um Dockerfile mínimo com pdo_mysql\n",
        "cat > Dockerfile <<'EOF'\n",
        "FROM php:8.3-cli\n",
        "\n",
        "# Instala o driver PDO para MySQL\n",
        "RUN docker-php-ext-install pdo pdo_mysql\n",
        "\n",
        "WORKDIR /app\n",
        "COPY . /app\n",
        "\n",
        "# Cloud Run usa a variável PORT (padrão 8080)\n",
        "ENV PORT=8080\n",
        "EXPOSE 8080\n",
        "\n",
        "# Servidor embutido do PHP\n",
        "CMD [\"sh\",\"-c\",\"php -S 0.0.0.0:${PORT} /app/index.php\"]\n",
        "EOF\n",
        "\n",
        "echo \"Dockerfile pronto:\"\n",
        "head -n 20 Dockerfile\n",
        "\n",
        "#####################################\n",
        "# BUILD + DEPLOY (env-vars separadas)\n",
        "#####################################\n",
        "gcloud builds submit . --tag \"$IMAGE_URI\"\n",
        "\n",
        "gcloud run deploy \"$SERVICE\" \\\n",
        "  --image \"$IMAGE_URI\" \\\n",
        "  --region \"$REGION\" \\\n",
        "  --allow-unauthenticated \\\n",
        "  --set-env-vars DB_HOST=\"$DB_HOST\" \\\n",
        "  --set-env-vars DB_NAME=\"$DB_NAME\" \\\n",
        "  --set-env-vars DB_USER=\"$DB_USER\" \\\n",
        "  --set-env-vars DB_PASS=\"$DB_PASS\"\n",
        "\n",
        "# Mostrar URL e testar rapidamente\n",
        "URL=\"$(gcloud run services describe \"$SERVICE\" --region \"$REGION\" --format='value(status.url)')\"\n",
        "echo \"URL: $URL\"\n",
        "curl -si \"$URL\" | head -n 20 || true\n"
      ],
      "metadata": {
        "colab": {
          "base_uri": "https://localhost:8080/"
        },
        "id": "WPxLAmFmHTG3",
        "outputId": "86904aa1-ac45-4862-d66c-430ba19c92c6"
      },
      "execution_count": null,
      "outputs": [
        {
          "output_type": "stream",
          "name": "stdout",
          "text": [
            "IMAGE_URI=us-central1-docker.pkg.dev/mackai-468422/cloud-run/php-service:20250823-011206\n",
            "Fetching origin\n",
            "HEAD is now at c661402 Update index.php\n",
            "Dockerfile pronto:\n",
            "FROM php:8.3-cli\n",
            "\n",
            "# Instala o driver PDO para MySQL\n",
            "RUN docker-php-ext-install pdo pdo_mysql\n",
            "\n",
            "WORKDIR /app\n",
            "COPY . /app\n",
            "\n",
            "# Cloud Run usa a variável PORT (padrão 8080)\n",
            "ENV PORT=8080\n",
            "EXPOSE 8080\n",
            "\n",
            "# Servidor embutido do PHP\n",
            "CMD [\"sh\",\"-c\",\"php -S 0.0.0.0:${PORT} /app/index.php\"]\n",
            "----------------------------- REMOTE BUILD OUTPUT ------------------------------\n",
            "starting build \"6f4cd1c6-8a3b-49e1-b7fa-5e6b33f28815\"\n",
            "\n",
            "FETCHSOURCE\n",
            "Fetching storage object: gs://mackai-468422_cloudbuild/source/1755911550.394519-7ca7194d620d4d6eae03cc942ac21412.tgz#1755911551658025\n",
            "Copying gs://mackai-468422_cloudbuild/source/1755911550.394519-7ca7194d620d4d6eae03cc942ac21412.tgz#1755911551658025...\n",
            "/ [0 files][    0.0 B/  4.2 KiB]                                                \r/ [1 files][  4.2 KiB/  4.2 KiB]                                                \r\n",
            "Operation completed over 1 objects/4.2 KiB.\n",
            "BUILD\n",
            "Already have image (with digest): gcr.io/cloud-builders/docker\n",
            "Sending build context to Docker daemon  13.31kB\r\r\n",
            "Step 1/7 : FROM php:8.3-cli\n",
            "8.3-cli: Pulling from library/php\n",
            "396b1da7636e: Already exists\n",
            "28c25be817a8: Pulling fs layer\n",
            "51360ab2221d: Pulling fs layer\n",
            "08c26ffa693e: Pulling fs layer\n",
            "77a8cb1610f0: Pulling fs layer\n",
            "67b1506d682c: Pulling fs layer\n",
            "fb23beb69d5a: Pulling fs layer\n",
            "337234f2407e: Pulling fs layer\n",
            "2db8f7aa69f2: Pulling fs layer\n",
            "44fef395db1e: Pulling fs layer\n",
            "77a8cb1610f0: Waiting\n",
            "67b1506d682c: Waiting\n",
            "fb23beb69d5a: Waiting\n",
            "337234f2407e: Waiting\n",
            "2db8f7aa69f2: Waiting\n",
            "44fef395db1e: Waiting\n",
            "28c25be817a8: Verifying Checksum\n",
            "28c25be817a8: Download complete\n",
            "08c26ffa693e: Verifying Checksum\n",
            "08c26ffa693e: Download complete\n",
            "28c25be817a8: Pull complete\n",
            "67b1506d682c: Verifying Checksum\n",
            "67b1506d682c: Download complete\n",
            "77a8cb1610f0: Verifying Checksum\n",
            "77a8cb1610f0: Download complete\n",
            "337234f2407e: Verifying Checksum\n",
            "337234f2407e: Download complete\n",
            "fb23beb69d5a: Verifying Checksum\n",
            "fb23beb69d5a: Download complete\n",
            "2db8f7aa69f2: Verifying Checksum\n",
            "2db8f7aa69f2: Download complete\n",
            "44fef395db1e: Verifying Checksum\n",
            "44fef395db1e: Download complete\n",
            "51360ab2221d: Verifying Checksum\n",
            "51360ab2221d: Download complete\n",
            "51360ab2221d: Pull complete\n",
            "08c26ffa693e: Pull complete\n",
            "77a8cb1610f0: Pull complete\n",
            "67b1506d682c: Pull complete\n",
            "fb23beb69d5a: Pull complete\n",
            "337234f2407e: Pull complete\n",
            "2db8f7aa69f2: Pull complete\n",
            "44fef395db1e: Pull complete\n",
            "Digest: sha256:048859890ff3156209c88f708c738511a350a20737cd3488d1efe833154e6158\n",
            "Status: Downloaded newer image for php:8.3-cli\n",
            " ---> 23ff426857c1\n",
            "Step 2/7 : RUN docker-php-ext-install pdo pdo_mysql\n",
            " ---> Running in 46d71bdfb46c\n",
            "Configuring for:\n",
            "PHP Api Version:         20230831\n",
            "Zend Module Api No:      20230831\n",
            "Zend Extension Api No:   420230831\n",
            "checking for grep that handles long lines and -e... /usr/bin/grep\n",
            "checking for egrep... /usr/bin/grep -E\n",
            "checking for a sed that does not truncate output... /usr/bin/sed\n",
            "checking for pkg-config... /usr/bin/pkg-config\n",
            "checking pkg-config is at least version 0.9.0... yes\n",
            "checking for cc... cc\n",
            "checking whether the C compiler works... yes\n",
            "checking for C compiler default output file name... a.out\n",
            "checking for suffix of executables... \n",
            "checking whether we are cross compiling... no\n",
            "checking for suffix of object files... o\n",
            "checking whether the compiler supports GNU C... yes\n",
            "checking whether cc accepts -g... yes\n",
            "checking for cc option to enable C11 features... none needed\n",
            "checking how to run the C preprocessor... cc -E\n",
            "checking for egrep -e... (cached) /usr/bin/grep -E\n",
            "checking for icc... no\n",
            "checking for suncc... no\n",
            "checking for system library directory... lib\n",
            "checking if compiler supports -Wl,-rpath,... yes\n",
            "checking build system type... x86_64-pc-linux-gnu\n",
            "checking host system type... x86_64-pc-linux-gnu\n",
            "checking target system type... x86_64-pc-linux-gnu\n",
            "checking for PHP prefix... /usr/local\n",
            "checking for PHP includes... -I/usr/local/include/php -I/usr/local/include/php/main -I/usr/local/include/php/TSRM -I/usr/local/include/php/Zend -I/usr/local/include/php/ext -I/usr/local/include/php/ext/date/lib\n",
            "checking for PHP extension directory... /usr/local/lib/php/extensions/no-debug-non-zts-20230831\n",
            "checking for PHP installed headers prefix... /usr/local/include/php\n",
            "checking if debug is enabled... no\n",
            "checking if zts is enabled... no\n",
            "checking for gawk... no\n",
            "checking for nawk... nawk\n",
            "checking if nawk is broken... no\n",
            "checking whether to enable PDO support... yes, shared\n",
            "checking for a sed that does not truncate output... /usr/bin/sed\n",
            "checking for ld used by cc... /usr/bin/ld\n",
            "checking if the linker (/usr/bin/ld) is GNU ld... yes\n",
            "checking for /usr/bin/ld option to reload object files... -r\n",
            "checking for BSD-compatible nm... /usr/bin/nm -B\n",
            "checking whether ln -s works... yes\n",
            "checking how to recognize dependent libraries... pass_all\n",
            "checking for stdio.h... yes\n",
            "checking for stdlib.h... yes\n",
            "checking for string.h... yes\n",
            "checking for inttypes.h... yes\n",
            "checking for stdint.h... yes\n",
            "checking for strings.h... yes\n",
            "checking for sys/stat.h... yes\n",
            "checking for sys/types.h... yes\n",
            "checking for unistd.h... yes\n",
            "checking for dlfcn.h... yes\n",
            "checking the maximum length of command line arguments... 1572864\n",
            "checking command to parse /usr/bin/nm -B output from cc object... ok\n",
            "checking for objdir... .libs\n",
            "checking for ar... ar\n",
            "checking for ranlib... ranlib\n",
            "checking for strip... strip\n",
            "checking if cc supports -fno-rtti -fno-exceptions... no\n",
            "checking for cc option to produce PIC... -fPIC\n",
            "checking if cc PIC flag -fPIC works... yes\n",
            "checking if cc static flag -static works... yes\n",
            "checking if cc supports -c -o file.o... yes\n",
            "checking whether the cc linker (/usr/bin/ld -m elf_x86_64) supports shared libraries... yes\n",
            "checking whether -lc should be explicitly linked in... no\n",
            "checking dynamic linker characteristics... GNU/Linux ld.so\n",
            "checking how to hardcode library paths into programs... immediate\n",
            "checking whether stripping libraries is possible... yes\n",
            "checking if libtool supports shared libraries... yes\n",
            "checking whether to build shared libraries... yes\n",
            "checking whether to build static libraries... no\n",
            "\n",
            "creating libtool\n",
            "appending configuration tag \"CXX\" to libtool\n",
            "configure: patching config.h.in\n",
            "configure: creating ./config.status\n",
            "config.status: creating config.h\n",
            "/bin/bash /usr/src/php/ext/pdo/libtool --tag=CC --mode=compile cc -I. -I/usr/src/php/ext/pdo -I/usr/src/php/ext/pdo/include -I/usr/src/php/ext/pdo/main -I/usr/src/php/ext/pdo -I/usr/local/include/php -I/usr/local/include/php/main -I/usr/local/include/php/TSRM -I/usr/local/include/php/Zend -I/usr/local/include/php/ext -I/usr/local/include/php/ext/date/lib  -fstack-protector-strong -fpic -fpie -O2 -D_LARGEFILE_SOURCE -D_FILE_OFFSET_BITS=64 -DHAVE_CONFIG_H  -fstack-protector-strong -fpic -fpie -O2 -D_LARGEFILE_SOURCE -D_FILE_OFFSET_BITS=64 -D_GNU_SOURCE    -DZEND_COMPILE_DL_EXT=1 -c /usr/src/php/ext/pdo/pdo.c -o pdo.lo  -MMD -MF pdo.dep -MT pdo.lo\n",
            "mkdir .libs\n",
            " cc -I. -I/usr/src/php/ext/pdo -I/usr/src/php/ext/pdo/include -I/usr/src/php/ext/pdo/main -I/usr/src/php/ext/pdo -I/usr/local/include/php -I/usr/local/include/php/main -I/usr/local/include/php/TSRM -I/usr/local/include/php/Zend -I/usr/local/include/php/ext -I/usr/local/include/php/ext/date/lib -fstack-protector-strong -fpic -fpie -O2 -D_LARGEFILE_SOURCE -D_FILE_OFFSET_BITS=64 -DHAVE_CONFIG_H -fstack-protector-strong -fpic -fpie -O2 -D_LARGEFILE_SOURCE -D_FILE_OFFSET_BITS=64 -D_GNU_SOURCE -DZEND_COMPILE_DL_EXT=1 -c /usr/src/php/ext/pdo/pdo.c -MMD -MF pdo.dep -MT pdo.lo  -fPIC -DPIC -o .libs/pdo.o\n",
            "/bin/bash /usr/src/php/ext/pdo/libtool --tag=CC --mode=compile cc -I. -I/usr/src/php/ext/pdo -I/usr/src/php/ext/pdo/include -I/usr/src/php/ext/pdo/main -I/usr/src/php/ext/pdo -I/usr/local/include/php -I/usr/local/include/php/main -I/usr/local/include/php/TSRM -I/usr/local/include/php/Zend -I/usr/local/include/php/ext -I/usr/local/include/php/ext/date/lib  -fstack-protector-strong -fpic -fpie -O2 -D_LARGEFILE_SOURCE -D_FILE_OFFSET_BITS=64 -DHAVE_CONFIG_H  -fstack-protector-strong -fpic -fpie -O2 -D_LARGEFILE_SOURCE -D_FILE_OFFSET_BITS=64 -D_GNU_SOURCE    -DZEND_COMPILE_DL_EXT=1 -c /usr/src/php/ext/pdo/pdo_dbh.c -o pdo_dbh.lo  -MMD -MF pdo_dbh.dep -MT pdo_dbh.lo\n",
            " cc -I. -I/usr/src/php/ext/pdo -I/usr/src/php/ext/pdo/include -I/usr/src/php/ext/pdo/main -I/usr/src/php/ext/pdo -I/usr/local/include/php -I/usr/local/include/php/main -I/usr/local/include/php/TSRM -I/usr/local/include/php/Zend -I/usr/local/include/php/ext -I/usr/local/include/php/ext/date/lib -fstack-protector-strong -fpic -fpie -O2 -D_LARGEFILE_SOURCE -D_FILE_OFFSET_BITS=64 -DHAVE_CONFIG_H -fstack-protector-strong -fpic -fpie -O2 -D_LARGEFILE_SOURCE -D_FILE_OFFSET_BITS=64 -D_GNU_SOURCE -DZEND_COMPILE_DL_EXT=1 -c /usr/src/php/ext/pdo/pdo_dbh.c -MMD -MF pdo_dbh.dep -MT pdo_dbh.lo  -fPIC -DPIC -o .libs/pdo_dbh.o\n",
            "/bin/bash /usr/src/php/ext/pdo/libtool --tag=CC --mode=compile cc -I. -I/usr/src/php/ext/pdo -I/usr/src/php/ext/pdo/include -I/usr/src/php/ext/pdo/main -I/usr/src/php/ext/pdo -I/usr/local/include/php -I/usr/local/include/php/main -I/usr/local/include/php/TSRM -I/usr/local/include/php/Zend -I/usr/local/include/php/ext -I/usr/local/include/php/ext/date/lib  -fstack-protector-strong -fpic -fpie -O2 -D_LARGEFILE_SOURCE -D_FILE_OFFSET_BITS=64 -DHAVE_CONFIG_H  -fstack-protector-strong -fpic -fpie -O2 -D_LARGEFILE_SOURCE -D_FILE_OFFSET_BITS=64 -D_GNU_SOURCE    -DZEND_COMPILE_DL_EXT=1 -c /usr/src/php/ext/pdo/pdo_stmt.c -o pdo_stmt.lo  -MMD -MF pdo_stmt.dep -MT pdo_stmt.lo\n",
            " cc -I. -I/usr/src/php/ext/pdo -I/usr/src/php/ext/pdo/include -I/usr/src/php/ext/pdo/main -I/usr/src/php/ext/pdo -I/usr/local/include/php -I/usr/local/include/php/main -I/usr/local/include/php/TSRM -I/usr/local/include/php/Zend -I/usr/local/include/php/ext -I/usr/local/include/php/ext/date/lib -fstack-protector-strong -fpic -fpie -O2 -D_LARGEFILE_SOURCE -D_FILE_OFFSET_BITS=64 -DHAVE_CONFIG_H -fstack-protector-strong -fpic -fpie -O2 -D_LARGEFILE_SOURCE -D_FILE_OFFSET_BITS=64 -D_GNU_SOURCE -DZEND_COMPILE_DL_EXT=1 -c /usr/src/php/ext/pdo/pdo_stmt.c -MMD -MF pdo_stmt.dep -MT pdo_stmt.lo  -fPIC -DPIC -o .libs/pdo_stmt.o\n",
            "/bin/bash /usr/src/php/ext/pdo/libtool --tag=CC --mode=compile cc -I. -I/usr/src/php/ext/pdo -I/usr/src/php/ext/pdo/include -I/usr/src/php/ext/pdo/main -I/usr/src/php/ext/pdo -I/usr/local/include/php -I/usr/local/include/php/main -I/usr/local/include/php/TSRM -I/usr/local/include/php/Zend -I/usr/local/include/php/ext -I/usr/local/include/php/ext/date/lib  -fstack-protector-strong -fpic -fpie -O2 -D_LARGEFILE_SOURCE -D_FILE_OFFSET_BITS=64 -DHAVE_CONFIG_H  -fstack-protector-strong -fpic -fpie -O2 -D_LARGEFILE_SOURCE -D_FILE_OFFSET_BITS=64 -D_GNU_SOURCE    -DZEND_COMPILE_DL_EXT=1 -c /usr/src/php/ext/pdo/pdo_sql_parser.c -o pdo_sql_parser.lo  -MMD -MF pdo_sql_parser.dep -MT pdo_sql_parser.lo\n",
            " cc -I. -I/usr/src/php/ext/pdo -I/usr/src/php/ext/pdo/include -I/usr/src/php/ext/pdo/main -I/usr/src/php/ext/pdo -I/usr/local/include/php -I/usr/local/include/php/main -I/usr/local/include/php/TSRM -I/usr/local/include/php/Zend -I/usr/local/include/php/ext -I/usr/local/include/php/ext/date/lib -fstack-protector-strong -fpic -fpie -O2 -D_LARGEFILE_SOURCE -D_FILE_OFFSET_BITS=64 -DHAVE_CONFIG_H -fstack-protector-strong -fpic -fpie -O2 -D_LARGEFILE_SOURCE -D_FILE_OFFSET_BITS=64 -D_GNU_SOURCE -DZEND_COMPILE_DL_EXT=1 -c /usr/src/php/ext/pdo/pdo_sql_parser.c -MMD -MF pdo_sql_parser.dep -MT pdo_sql_parser.lo  -fPIC -DPIC -o .libs/pdo_sql_parser.o\n",
            "/bin/bash /usr/src/php/ext/pdo/libtool --tag=CC --mode=compile cc -I. -I/usr/src/php/ext/pdo -I/usr/src/php/ext/pdo/include -I/usr/src/php/ext/pdo/main -I/usr/src/php/ext/pdo -I/usr/local/include/php -I/usr/local/include/php/main -I/usr/local/include/php/TSRM -I/usr/local/include/php/Zend -I/usr/local/include/php/ext -I/usr/local/include/php/ext/date/lib  -fstack-protector-strong -fpic -fpie -O2 -D_LARGEFILE_SOURCE -D_FILE_OFFSET_BITS=64 -DHAVE_CONFIG_H  -fstack-protector-strong -fpic -fpie -O2 -D_LARGEFILE_SOURCE -D_FILE_OFFSET_BITS=64 -D_GNU_SOURCE    -DZEND_COMPILE_DL_EXT=1 -c /usr/src/php/ext/pdo/pdo_sqlstate.c -o pdo_sqlstate.lo  -MMD -MF pdo_sqlstate.dep -MT pdo_sqlstate.lo\n",
            " cc -I. -I/usr/src/php/ext/pdo -I/usr/src/php/ext/pdo/include -I/usr/src/php/ext/pdo/main -I/usr/src/php/ext/pdo -I/usr/local/include/php -I/usr/local/include/php/main -I/usr/local/include/php/TSRM -I/usr/local/include/php/Zend -I/usr/local/include/php/ext -I/usr/local/include/php/ext/date/lib -fstack-protector-strong -fpic -fpie -O2 -D_LARGEFILE_SOURCE -D_FILE_OFFSET_BITS=64 -DHAVE_CONFIG_H -fstack-protector-strong -fpic -fpie -O2 -D_LARGEFILE_SOURCE -D_FILE_OFFSET_BITS=64 -D_GNU_SOURCE -DZEND_COMPILE_DL_EXT=1 -c /usr/src/php/ext/pdo/pdo_sqlstate.c -MMD -MF pdo_sqlstate.dep -MT pdo_sqlstate.lo  -fPIC -DPIC -o .libs/pdo_sqlstate.o\n",
            "/bin/bash /usr/src/php/ext/pdo/libtool --tag=CC --mode=link cc -shared -I/usr/src/php/ext/pdo/include -I/usr/src/php/ext/pdo/main -I/usr/src/php/ext/pdo -I/usr/local/include/php -I/usr/local/include/php/main -I/usr/local/include/php/TSRM -I/usr/local/include/php/Zend -I/usr/local/include/php/ext -I/usr/local/include/php/ext/date/lib  -fstack-protector-strong -fpic -fpie -O2 -D_LARGEFILE_SOURCE -D_FILE_OFFSET_BITS=64 -DHAVE_CONFIG_H  -fstack-protector-strong -fpic -fpie -O2 -D_LARGEFILE_SOURCE -D_FILE_OFFSET_BITS=64 -D_GNU_SOURCE  -Wl,-O1 -pie  -o pdo.la -export-dynamic -avoid-version -prefer-pic -module -rpath /usr/src/php/ext/pdo/modules  pdo.lo pdo_dbh.lo pdo_stmt.lo pdo_sql_parser.lo pdo_sqlstate.lo\n",
            "cc -shared  .libs/pdo.o .libs/pdo_dbh.o .libs/pdo_stmt.o .libs/pdo_sql_parser.o .libs/pdo_sqlstate.o   -Wl,-O1 -Wl,-soname -Wl,pdo.so -o .libs/pdo.so\n",
            "creating pdo.la\n",
            "(cd .libs && rm -f pdo.la && ln -s ../pdo.la pdo.la)\n",
            "/bin/bash /usr/src/php/ext/pdo/libtool --tag=CC --mode=install cp ./pdo.la /usr/src/php/ext/pdo/modules\n",
            "cp ./.libs/pdo.so /usr/src/php/ext/pdo/modules/pdo.so\n",
            "cp ./.libs/pdo.lai /usr/src/php/ext/pdo/modules/pdo.la\n",
            "PATH=\"$PATH:/sbin\" ldconfig -n /usr/src/php/ext/pdo/modules\n",
            "----------------------------------------------------------------------\n",
            "Libraries have been installed in:\n",
            "   /usr/src/php/ext/pdo/modules\n",
            "\n",
            "If you ever happen to want to link against installed libraries\n",
            "in a given directory, LIBDIR, you must either use libtool, and\n",
            "specify the full pathname of the library, or use the `-LLIBDIR'\n",
            "flag during linking and do at least one of the following:\n",
            "   - add LIBDIR to the `LD_LIBRARY_PATH' environment variable\n",
            "     during execution\n",
            "   - add LIBDIR to the `LD_RUN_PATH' environment variable\n",
            "     during linking\n",
            "   - use the `-Wl,--rpath -Wl,LIBDIR' linker flag\n",
            "   - have your system administrator add LIBDIR to `/etc/ld.so.conf'\n",
            "\n",
            "See any operating system documentation about shared libraries for\n",
            "more information, such as the ld(1) and ld.so(8) manual pages.\n",
            "----------------------------------------------------------------------\n",
            "\n",
            "Build complete.\n",
            "Don't forget to run 'make test'.\n",
            "\n",
            "\u001b[91m+ strip --strip-all modules/pdo.so\n",
            "\u001b[0mInstalling shared extensions:     /usr/local/lib/php/extensions/no-debug-non-zts-20230831/\n",
            "Installing header files:          /usr/local/include/php/\n",
            "Installing PDO headers:           /usr/local/include/php/ext/pdo/\n",
            "\u001b[91m\n",
            "warning: pdo (pdo) is already loaded!\n",
            "\n",
            "\u001b[0mfind . -name \\*.gcno -o -name \\*.gcda | xargs rm -f\n",
            "find . -name \\*.lo -o -name \\*.o -o -name \\*.dep | xargs rm -f\n",
            "find . -name \\*.la -o -name \\*.a | xargs rm -f\n",
            "find . -name \\*.so | xargs rm -f\n",
            "find . -name .libs -a -type d|xargs rm -rf\n",
            "rm -f libphp.la      modules/* libs/*\n",
            "rm -f ext/opcache/jit/zend_jit_x86.c\n",
            "rm -f ext/opcache/jit/zend_jit_arm64.c\n",
            "rm -f ext/opcache/minilua\n",
            "Configuring for:\n",
            "PHP Api Version:         20230831\n",
            "Zend Module Api No:      20230831\n",
            "Zend Extension Api No:   420230831\n",
            "checking for grep that handles long lines and -e... /usr/bin/grep\n",
            "checking for egrep... /usr/bin/grep -E\n",
            "checking for a sed that does not truncate output... /usr/bin/sed\n",
            "checking for pkg-config... /usr/bin/pkg-config\n",
            "checking pkg-config is at least version 0.9.0... yes\n",
            "checking for cc... cc\n",
            "checking whether the C compiler works... yes\n",
            "checking for C compiler default output file name... a.out\n",
            "checking for suffix of executables... \n",
            "checking whether we are cross compiling... no\n",
            "checking for suffix of object files... o\n",
            "checking whether the compiler supports GNU C... yes\n",
            "checking whether cc accepts -g... yes\n",
            "checking for cc option to enable C11 features... none needed\n",
            "checking how to run the C preprocessor... cc -E\n",
            "checking for egrep -e... (cached) /usr/bin/grep -E\n",
            "checking for icc... no\n",
            "checking for suncc... no\n",
            "checking for system library directory... lib\n",
            "checking if compiler supports -Wl,-rpath,... yes\n",
            "checking build system type... x86_64-pc-linux-gnu\n",
            "checking host system type... x86_64-pc-linux-gnu\n",
            "checking target system type... x86_64-pc-linux-gnu\n",
            "checking for PHP prefix... /usr/local\n",
            "checking for PHP includes... -I/usr/local/include/php -I/usr/local/include/php/main -I/usr/local/include/php/TSRM -I/usr/local/include/php/Zend -I/usr/local/include/php/ext -I/usr/local/include/php/ext/date/lib\n",
            "checking for PHP extension directory... /usr/local/lib/php/extensions/no-debug-non-zts-20230831\n",
            "checking for PHP installed headers prefix... /usr/local/include/php\n",
            "checking if debug is enabled... no\n",
            "checking if zts is enabled... no\n",
            "checking for gawk... no\n",
            "checking for nawk... nawk\n",
            "checking if nawk is broken... no\n",
            "checking for MySQL support for PDO... yes, shared\n",
            "checking for the location of libz... no\n",
            "checking for MySQL UNIX socket location... \n",
            "checking for PDO includes... /usr/local/include/php/ext\n",
            "checking for a sed that does not truncate output... /usr/bin/sed\n",
            "checking for ld used by cc... /usr/bin/ld\n",
            "checking if the linker (/usr/bin/ld) is GNU ld... yes\n",
            "checking for /usr/bin/ld option to reload object files... -r\n",
            "checking for BSD-compatible nm... /usr/bin/nm -B\n",
            "checking whether ln -s works... yes\n",
            "checking how to recognize dependent libraries... pass_all\n",
            "checking for stdio.h... yes\n",
            "checking for stdlib.h... yes\n",
            "checking for string.h... yes\n",
            "checking for inttypes.h... yes\n",
            "checking for stdint.h... yes\n",
            "checking for strings.h... yes\n",
            "checking for sys/stat.h... yes\n",
            "checking for sys/types.h... yes\n",
            "checking for unistd.h... yes\n",
            "checking for dlfcn.h... yes\n",
            "checking the maximum length of command line arguments... 1572864\n",
            "checking command to parse /usr/bin/nm -B output from cc object... ok\n",
            "checking for objdir... .libs\n",
            "checking for ar... ar\n",
            "checking for ranlib... ranlib\n",
            "checking for strip... strip\n",
            "checking if cc supports -fno-rtti -fno-exceptions... no\n",
            "checking for cc option to produce PIC... -fPIC\n",
            "checking if cc PIC flag -fPIC works... yes\n",
            "checking if cc static flag -static works... yes\n",
            "checking if cc supports -c -o file.o... yes\n",
            "checking whether the cc linker (/usr/bin/ld -m elf_x86_64) supports shared libraries... yes\n",
            "checking whether -lc should be explicitly linked in... no\n",
            "checking dynamic linker characteristics... GNU/Linux ld.so\n",
            "checking how to hardcode library paths into programs... immediate\n",
            "checking whether stripping libraries is possible... yes\n",
            "checking if libtool supports shared libraries... yes\n",
            "checking whether to build shared libraries... yes\n",
            "checking whether to build static libraries... no\n",
            "\n",
            "creating libtool\n",
            "appending configuration tag \"CXX\" to libtool\n",
            "configure: patching config.h.in\n",
            "configure: creating ./config.status\n",
            "config.status: creating config.h\n",
            "/bin/bash /usr/src/php/ext/pdo_mysql/libtool --tag=CC --mode=compile cc -I. -I/usr/src/php/ext/pdo_mysql -I/usr/src/php/ext/pdo_mysql/include -I/usr/src/php/ext/pdo_mysql/main -I/usr/src/php/ext/pdo_mysql -I/usr/local/include/php -I/usr/local/include/php/main -I/usr/local/include/php/TSRM -I/usr/local/include/php/Zend -I/usr/local/include/php/ext -I/usr/local/include/php/ext/date/lib  -fstack-protector-strong -fpic -fpie -O2 -D_LARGEFILE_SOURCE -D_FILE_OFFSET_BITS=64 -DHAVE_CONFIG_H  -fstack-protector-strong -fpic -fpie -O2 -D_LARGEFILE_SOURCE -D_FILE_OFFSET_BITS=64 -D_GNU_SOURCE   -I/usr/local/include/php/ext -DZEND_ENABLE_STATIC_TSRMLS_CACHE=1 -DZEND_COMPILE_DL_EXT=1 -c /usr/src/php/ext/pdo_mysql/pdo_mysql.c -o pdo_mysql.lo  -MMD -MF pdo_mysql.dep -MT pdo_mysql.lo\n",
            "mkdir .libs\n",
            " cc -I. -I/usr/src/php/ext/pdo_mysql -I/usr/src/php/ext/pdo_mysql/include -I/usr/src/php/ext/pdo_mysql/main -I/usr/src/php/ext/pdo_mysql -I/usr/local/include/php -I/usr/local/include/php/main -I/usr/local/include/php/TSRM -I/usr/local/include/php/Zend -I/usr/local/include/php/ext -I/usr/local/include/php/ext/date/lib -fstack-protector-strong -fpic -fpie -O2 -D_LARGEFILE_SOURCE -D_FILE_OFFSET_BITS=64 -DHAVE_CONFIG_H -fstack-protector-strong -fpic -fpie -O2 -D_LARGEFILE_SOURCE -D_FILE_OFFSET_BITS=64 -D_GNU_SOURCE -I/usr/local/include/php/ext -DZEND_ENABLE_STATIC_TSRMLS_CACHE=1 -DZEND_COMPILE_DL_EXT=1 -c /usr/src/php/ext/pdo_mysql/pdo_mysql.c -MMD -MF pdo_mysql.dep -MT pdo_mysql.lo  -fPIC -DPIC -o .libs/pdo_mysql.o\n",
            "/bin/bash /usr/src/php/ext/pdo_mysql/libtool --tag=CC --mode=compile cc -I. -I/usr/src/php/ext/pdo_mysql -I/usr/src/php/ext/pdo_mysql/include -I/usr/src/php/ext/pdo_mysql/main -I/usr/src/php/ext/pdo_mysql -I/usr/local/include/php -I/usr/local/include/php/main -I/usr/local/include/php/TSRM -I/usr/local/include/php/Zend -I/usr/local/include/php/ext -I/usr/local/include/php/ext/date/lib  -fstack-protector-strong -fpic -fpie -O2 -D_LARGEFILE_SOURCE -D_FILE_OFFSET_BITS=64 -DHAVE_CONFIG_H  -fstack-protector-strong -fpic -fpie -O2 -D_LARGEFILE_SOURCE -D_FILE_OFFSET_BITS=64 -D_GNU_SOURCE   -I/usr/local/include/php/ext -DZEND_ENABLE_STATIC_TSRMLS_CACHE=1 -DZEND_COMPILE_DL_EXT=1 -c /usr/src/php/ext/pdo_mysql/mysql_driver.c -o mysql_driver.lo  -MMD -MF mysql_driver.dep -MT mysql_driver.lo\n",
            " cc -I. -I/usr/src/php/ext/pdo_mysql -I/usr/src/php/ext/pdo_mysql/include -I/usr/src/php/ext/pdo_mysql/main -I/usr/src/php/ext/pdo_mysql -I/usr/local/include/php -I/usr/local/include/php/main -I/usr/local/include/php/TSRM -I/usr/local/include/php/Zend -I/usr/local/include/php/ext -I/usr/local/include/php/ext/date/lib -fstack-protector-strong -fpic -fpie -O2 -D_LARGEFILE_SOURCE -D_FILE_OFFSET_BITS=64 -DHAVE_CONFIG_H -fstack-protector-strong -fpic -fpie -O2 -D_LARGEFILE_SOURCE -D_FILE_OFFSET_BITS=64 -D_GNU_SOURCE -I/usr/local/include/php/ext -DZEND_ENABLE_STATIC_TSRMLS_CACHE=1 -DZEND_COMPILE_DL_EXT=1 -c /usr/src/php/ext/pdo_mysql/mysql_driver.c -MMD -MF mysql_driver.dep -MT mysql_driver.lo  -fPIC -DPIC -o .libs/mysql_driver.o\n",
            "/bin/bash /usr/src/php/ext/pdo_mysql/libtool --tag=CC --mode=compile cc -I. -I/usr/src/php/ext/pdo_mysql -I/usr/src/php/ext/pdo_mysql/include -I/usr/src/php/ext/pdo_mysql/main -I/usr/src/php/ext/pdo_mysql -I/usr/local/include/php -I/usr/local/include/php/main -I/usr/local/include/php/TSRM -I/usr/local/include/php/Zend -I/usr/local/include/php/ext -I/usr/local/include/php/ext/date/lib  -fstack-protector-strong -fpic -fpie -O2 -D_LARGEFILE_SOURCE -D_FILE_OFFSET_BITS=64 -DHAVE_CONFIG_H  -fstack-protector-strong -fpic -fpie -O2 -D_LARGEFILE_SOURCE -D_FILE_OFFSET_BITS=64 -D_GNU_SOURCE   -I/usr/local/include/php/ext -DZEND_ENABLE_STATIC_TSRMLS_CACHE=1 -DZEND_COMPILE_DL_EXT=1 -c /usr/src/php/ext/pdo_mysql/mysql_statement.c -o mysql_statement.lo  -MMD -MF mysql_statement.dep -MT mysql_statement.lo\n",
            " cc -I. -I/usr/src/php/ext/pdo_mysql -I/usr/src/php/ext/pdo_mysql/include -I/usr/src/php/ext/pdo_mysql/main -I/usr/src/php/ext/pdo_mysql -I/usr/local/include/php -I/usr/local/include/php/main -I/usr/local/include/php/TSRM -I/usr/local/include/php/Zend -I/usr/local/include/php/ext -I/usr/local/include/php/ext/date/lib -fstack-protector-strong -fpic -fpie -O2 -D_LARGEFILE_SOURCE -D_FILE_OFFSET_BITS=64 -DHAVE_CONFIG_H -fstack-protector-strong -fpic -fpie -O2 -D_LARGEFILE_SOURCE -D_FILE_OFFSET_BITS=64 -D_GNU_SOURCE -I/usr/local/include/php/ext -DZEND_ENABLE_STATIC_TSRMLS_CACHE=1 -DZEND_COMPILE_DL_EXT=1 -c /usr/src/php/ext/pdo_mysql/mysql_statement.c -MMD -MF mysql_statement.dep -MT mysql_statement.lo  -fPIC -DPIC -o .libs/mysql_statement.o\n",
            "/bin/bash /usr/src/php/ext/pdo_mysql/libtool --tag=CC --mode=link cc -shared -I/usr/src/php/ext/pdo_mysql/include -I/usr/src/php/ext/pdo_mysql/main -I/usr/src/php/ext/pdo_mysql -I/usr/local/include/php -I/usr/local/include/php/main -I/usr/local/include/php/TSRM -I/usr/local/include/php/Zend -I/usr/local/include/php/ext -I/usr/local/include/php/ext/date/lib  -fstack-protector-strong -fpic -fpie -O2 -D_LARGEFILE_SOURCE -D_FILE_OFFSET_BITS=64 -DHAVE_CONFIG_H  -fstack-protector-strong -fpic -fpie -O2 -D_LARGEFILE_SOURCE -D_FILE_OFFSET_BITS=64 -D_GNU_SOURCE  -Wl,-O1 -pie  -o pdo_mysql.la -export-dynamic -avoid-version -prefer-pic -module -rpath /usr/src/php/ext/pdo_mysql/modules  pdo_mysql.lo mysql_driver.lo mysql_statement.lo \n",
            "cc -shared  .libs/pdo_mysql.o .libs/mysql_driver.o .libs/mysql_statement.o   -Wl,-O1 -Wl,-soname -Wl,pdo_mysql.so -o .libs/pdo_mysql.so\n",
            "creating pdo_mysql.la\n",
            "(cd .libs && rm -f pdo_mysql.la && ln -s ../pdo_mysql.la pdo_mysql.la)\n",
            "/bin/bash /usr/src/php/ext/pdo_mysql/libtool --tag=CC --mode=install cp ./pdo_mysql.la /usr/src/php/ext/pdo_mysql/modules\n",
            "cp ./.libs/pdo_mysql.so /usr/src/php/ext/pdo_mysql/modules/pdo_mysql.so\n",
            "cp ./.libs/pdo_mysql.lai /usr/src/php/ext/pdo_mysql/modules/pdo_mysql.la\n",
            "PATH=\"$PATH:/sbin\" ldconfig -n /usr/src/php/ext/pdo_mysql/modules\n",
            "----------------------------------------------------------------------\n",
            "Libraries have been installed in:\n",
            "   /usr/src/php/ext/pdo_mysql/modules\n",
            "\n",
            "If you ever happen to want to link against installed libraries\n",
            "in a given directory, LIBDIR, you must either use libtool, and\n",
            "specify the full pathname of the library, or use the `-LLIBDIR'\n",
            "flag during linking and do at least one of the following:\n",
            "   - add LIBDIR to the `LD_LIBRARY_PATH' environment variable\n",
            "     during execution\n",
            "   - add LIBDIR to the `LD_RUN_PATH' environment variable\n",
            "     during linking\n",
            "   - use the `-Wl,--rpath -Wl,LIBDIR' linker flag\n",
            "   - have your system administrator add LIBDIR to `/etc/ld.so.conf'\n",
            "\n",
            "See any operating system documentation about shared libraries for\n",
            "more information, such as the ld(1) and ld.so(8) manual pages.\n",
            "----------------------------------------------------------------------\n",
            "\n",
            "Build complete.\n",
            "Don't forget to run 'make test'.\n",
            "\n",
            "\u001b[91m+ strip --strip-all modules/pdo_mysql.so\n",
            "\u001b[0mInstalling shared extensions:     /usr/local/lib/php/extensions/no-debug-non-zts-20230831/\n",
            "find . -name \\*.gcno -o -name \\*.gcda | xargs rm -f\n",
            "find . -name \\*.lo -o -name \\*.o -o -name \\*.dep | xargs rm -f\n",
            "find . -name \\*.la -o -name \\*.a | xargs rm -f\n",
            "find . -name \\*.so | xargs rm -f\n",
            "find . -name .libs -a -type d|xargs rm -rf\n",
            "rm -f libphp.la      modules/* libs/*\n",
            "rm -f ext/opcache/jit/zend_jit_x86.c\n",
            "rm -f ext/opcache/jit/zend_jit_arm64.c\n",
            "rm -f ext/opcache/minilua\n",
            "Removing intermediate container 46d71bdfb46c\n",
            " ---> d18e404e8509\n",
            "Step 3/7 : WORKDIR /app\n",
            " ---> Running in ffe1adf31c3b\n",
            "Removing intermediate container ffe1adf31c3b\n",
            " ---> bf29e3d72121\n",
            "Step 4/7 : COPY . /app\n",
            " ---> 66e46b6e861b\n",
            "Step 5/7 : ENV PORT=8080\n",
            " ---> Running in c04dd2a07ef5\n",
            "Removing intermediate container c04dd2a07ef5\n",
            " ---> 4346c14e05cc\n",
            "Step 6/7 : EXPOSE 8080\n",
            " ---> Running in 1b345e47c197\n",
            "Removing intermediate container 1b345e47c197\n",
            " ---> baf7e953b012\n",
            "Step 7/7 : CMD [\"sh\",\"-c\",\"php -S 0.0.0.0:${PORT} /app/index.php\"]\n",
            " ---> Running in c7443ed429af\n",
            "Removing intermediate container c7443ed429af\n",
            " ---> f0eb4f68838c\n",
            "Successfully built f0eb4f68838c\n",
            "Successfully tagged us-central1-docker.pkg.dev/mackai-468422/cloud-run/php-service:20250823-011206\n",
            "PUSH\n",
            "Pushing us-central1-docker.pkg.dev/mackai-468422/cloud-run/php-service:20250823-011206\n",
            "The push refers to repository [us-central1-docker.pkg.dev/mackai-468422/cloud-run/php-service]\n",
            "764715250ffa: Preparing\n",
            "09e39dc27394: Preparing\n",
            "331036071409: Preparing\n",
            "3b800811af04: Preparing\n",
            "b2ae1cdab8f8: Preparing\n",
            "18e54e94ec62: Preparing\n",
            "9f9b7d705b68: Preparing\n",
            "bb58c2eaffa8: Preparing\n",
            "b53d45f0157a: Preparing\n",
            "e230a0ab591b: Preparing\n",
            "444cbfde012c: Preparing\n",
            "524cc9ace63a: Preparing\n",
            "e6a3842ebc7f: Preparing\n",
            "18e54e94ec62: Waiting\n",
            "9f9b7d705b68: Waiting\n",
            "bb58c2eaffa8: Waiting\n",
            "b53d45f0157a: Waiting\n",
            "e230a0ab591b: Waiting\n",
            "444cbfde012c: Waiting\n",
            "524cc9ace63a: Waiting\n",
            "e6a3842ebc7f: Waiting\n",
            "764715250ffa: Pushed\n",
            "09e39dc27394: Pushed\n",
            "331036071409: Pushed\n",
            "b2ae1cdab8f8: Pushed\n",
            "3b800811af04: Pushed\n",
            "bb58c2eaffa8: Pushed\n",
            "e230a0ab591b: Pushed\n",
            "18e54e94ec62: Pushed\n",
            "b53d45f0157a: Pushed\n",
            "524cc9ace63a: Pushed\n",
            "9f9b7d705b68: Pushed\n",
            "e6a3842ebc7f: Pushed\n",
            "444cbfde012c: Pushed\n",
            "20250823-011206: digest: sha256:9d434dd0058271c061287ce099f3b5017415560c07c502648a3374365f0ba1d0 size: 3034\n",
            "DONE\n",
            "--------------------------------------------------------------------------------\n",
            "ID                                    CREATE_TIME                DURATION  SOURCE                                                                                       IMAGES                                                                          STATUS\n",
            "6f4cd1c6-8a3b-49e1-b7fa-5e6b33f28815  2025-08-23T01:12:32+00:00  1M3S      gs://mackai-468422_cloudbuild/source/1755911550.394519-7ca7194d620d4d6eae03cc942ac21412.tgz  us-central1-docker.pkg.dev/mackai-468422/cloud-run/php-service:20250823-011206  SUCCESS\n",
            "URL: https://php-service-xqq4p7pxuq-uc.a.run.app\n",
            "HTTP/2 200 \r\n",
            "x-powered-by: PHP/8.3.24\r\n",
            "content-type: text/html; charset=UTF-8\r\n",
            "date: Sat, 23 Aug 2025 01:15:04 GMT\r\n",
            "server: Google Frontend\r\n",
            "\r\n",
            "\n",
            "<!doctype html>\n",
            "<html lang=\"pt-BR\">\n",
            "<head>\n",
            "<meta charset=\"utf-8\" />\n",
            "<meta name=\"viewport\" content=\"width=device-width, initial-scale=1\" />\n",
            "<title>MACK·AI — Aprendizagem de Máquina</title>\n",
            "<style>\n",
            "  :root{\n",
            "    --red-900:#c63226;\n",
            "    --red-800:#d14236;\n",
            "    --red-700:#e14b3e;\n",
            "    --red-600:#ef5244;\n",
            "    --red-500:#f3584a;\n"
          ]
        },
        {
          "output_type": "stream",
          "name": "stderr",
          "text": [
            "Updated property [core/project].\n",
            "Updated property [run/region].\n",
            "Operation \"operations/acat.p2-576668051133-9a24341e-a8a3-4580-bae0-07fbe8e54193\" finished successfully.\n",
            "Create request issued for: [cloud-run]\n",
            "Waiting for operation [projects/mackai-468422/locations/us-central1/operations/d3e85c4d-2a55-4f48-b61f-046292123f78] to complete...\n",
            "..............done.\n",
            "Created repository [cloud-run].\n",
            "WARNING: `docker` not in system PATH.\n",
            "`docker` and `docker-credential-gcloud` need to be in the same PATH in order to work correctly together.\n",
            "gcloud's Docker credential helper can be configured but it will not work until this is corrected.\n",
            "WARNING: Your config file at [/root/.docker/config.json] contains these credential helper entries:\n",
            "\n",
            "{\n",
            "  \"credHelpers\": {\n",
            "    \"us-central1-docker.pkg.dev\": \"gcloud\"\n",
            "  }\n",
            "}\n",
            "Adding credentials for: us-central1-docker.pkg.dev\n",
            "gcloud credential helpers already registered correctly.\n",
            "Creating temporary archive of 3 file(s) totalling 10.0 KiB before compression.\n",
            "Uploading tarball of [.] to [gs://mackai-468422_cloudbuild/source/1755911550.394519-7ca7194d620d4d6eae03cc942ac21412.tgz]\n",
            "Created [https://cloudbuild.googleapis.com/v1/projects/mackai-468422/locations/global/builds/6f4cd1c6-8a3b-49e1-b7fa-5e6b33f28815].\n",
            "Logs are available at [ https://console.cloud.google.com/cloud-build/builds/6f4cd1c6-8a3b-49e1-b7fa-5e6b33f28815?project=576668051133 ].\n",
            "Waiting for build to complete. Polling interval: 1 second(s).\n",
            "Deploying container to Cloud Run service [\u001b[1mphp-service\u001b[m] in project [\u001b[1mmackai-468422\u001b[m] region [\u001b[1mus-central1\u001b[m]\n",
            "Deploying new service...\n",
            "Setting IAM Policy...........................done\n",
            "Creating Revision..................................................................................................................................................................................................................................................................................................................................................................................................................................................................................................................................................................................................................................................................................................done\n",
            "Routing traffic.....done\n",
            "Done.\n",
            "Service [\u001b[1mphp-service\u001b[m] revision [\u001b[1mphp-service-00001-4tv\u001b[m] has been deployed and is serving \u001b[1m100\u001b[m percent of traffic.\n",
            "Service URL: \u001b[1mhttps://php-service-576668051133.us-central1.run.app\u001b[m\n"
          ]
        }
      ]
    },
    {
      "cell_type": "code",
      "source": [
        "# Excluir repo de imagens\n",
        "!gcloud artifacts repositories delete cloud-run --location=us-central1 --quiet\n",
        "\n",
        "# Excluir também o serviço se ainda existir\n",
        "!gcloud run services delete php-service --region=us-central1 --quiet\n"
      ],
      "metadata": {
        "colab": {
          "base_uri": "https://localhost:8080/"
        },
        "id": "klzpOWZgJJvC",
        "outputId": "24cb37df-e302-4f1e-a6f0-9cfcbbdb8dcf"
      },
      "execution_count": null,
      "outputs": [
        {
          "output_type": "stream",
          "name": "stdout",
          "text": [
            "Delete request issued for: [cloud-run]\n",
            "Deleted repository [cloud-run].\n",
            "Deleted service [php-service].\n"
          ]
        }
      ]
    },
    {
      "cell_type": "markdown",
      "source": [
        "# Atualizar index.php"
      ],
      "metadata": {
        "id": "F91rIYMFTtJ9"
      }
    },
    {
      "cell_type": "code",
      "source": [],
      "metadata": {
        "id": "EbUGCUUfWXsa"
      },
      "execution_count": null,
      "outputs": []
    }
  ]
}