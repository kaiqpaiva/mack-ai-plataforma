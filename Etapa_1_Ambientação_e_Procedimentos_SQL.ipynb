{
  "nbformat": 4,
  "nbformat_minor": 0,
  "metadata": {
    "colab": {
      "provenance": [],
      "collapsed_sections": [
        "dxky-mXNvBVn",
        "gVvnchhTvL_u"
      ],
      "authorship_tag": "ABX9TyMYa2QH9vu9GwJhm97Wkljs",
      "include_colab_link": true
    },
    "kernelspec": {
      "name": "python3",
      "display_name": "Python 3"
    },
    "language_info": {
      "name": "python"
    }
  },
  "cells": [
    {
      "cell_type": "markdown",
      "metadata": {
        "id": "view-in-github",
        "colab_type": "text"
      },
      "source": [
        "<a href=\"https://colab.research.google.com/github/rafavidal1709/mack-ai-plataforma/blob/main/Etapa_1_Ambienta%C3%A7%C3%A3o_e_Procedimentos_SQL.ipynb\" target=\"_parent\"><img src=\"https://colab.research.google.com/assets/colab-badge.svg\" alt=\"Open In Colab\"/></a>"
      ]
    },
    {
      "cell_type": "markdown",
      "source": [
        "# Etapa 1 - Ambientação e Procedimentos em SQL"
      ],
      "metadata": {
        "id": "tNwpmY4PzkSF"
      }
    },
    {
      "cell_type": "markdown",
      "source": [
        "**Material de Apoio**\n",
        "\n",
        "[MAPA DO BANCO DE DADOS](https://github.com/rafavidal1709/mack-ai-plataforma/blob/main/Mapa%20Banco%20de%20Dados.pdf)\n",
        "\n",
        "[TODO O CÓDIGO SQL](https://github.com/rafavidal1709/mack-ai-plataforma/tree/main/postgreSQL)\n",
        "\n",
        "[FLUXOGRAMA DE DESENVOLVIMENTO](https://github.com/rafavidal1709/mack-ai-plataforma/blob/main/Fluxograma.pdf)\n",
        "\n",
        "[Descrição do esquema de banco de dados](https://docs.google.com/document/d/11lp3V0he0p6M_T1bOedblmoLvtRiu-eCpUl_Do5GdYs/edit?usp=sharing)\n",
        "\n",
        "[Cronograma completo do projeto](https://docs.google.com/document/d/1XRxitykgFvNZlXv7IJBSToIiAjjR1n4rdTAleI0rPVQ/edit?tab=t.0#heading=h.aggnx9bgqcsa)\n",
        "\n",
        "*O banco de dados usa a imagem **PostgreSQL 15**,*\n",
        "\n",
        "*Sendo assim a sintaxe SQL deve ser compatível com ela.*"
      ],
      "metadata": {
        "id": "2JjhamlsGZ8J"
      }
    },
    {
      "cell_type": "markdown",
      "source": [
        "**Veja seu nome de usuário abaixo e insira no DB_USER**\n",
        "\n",
        "- kaique_barros\n",
        "- matheus_goncalves\n",
        "- carla_de_jesus\n",
        "- david_lima\n",
        "- vitoria_lima\n",
        "- gustavo_kiyoshi\n",
        "- sophia_nishimura\n",
        "- moabe_silva\n",
        "- marlon_brenno"
      ],
      "metadata": {
        "id": "Wk_UKa4AIN2K"
      }
    },
    {
      "cell_type": "code",
      "execution_count": null,
      "metadata": {
        "colab": {
          "base_uri": "https://localhost:8080/"
        },
        "id": "FFSryntiBNpl",
        "outputId": "9517e0e7-7262-4811-da95-a8334fd13b0b"
      },
      "outputs": [
        {
          "output_type": "stream",
          "name": "stdout",
          "text": [
            "Tudo certo!\n",
            "\n",
            "(1, 'Estudo: Matemática', 'estudo', 'Grupo de estudo de matemática', datetime.datetime(2025, 10, 9, 15, 52, 41, 391052, tzinfo=datetime.timezone.utc), datetime.datetime(2025, 10, 9, 15, 52, 41, 391052, tzinfo=datetime.timezone.utc))\n",
            "(2, 'Estudo: Programação', 'estudo', 'Grupo de estudo de programação', datetime.datetime(2025, 10, 9, 15, 52, 41, 391052, tzinfo=datetime.timezone.utc), datetime.datetime(2025, 10, 9, 15, 52, 41, 391052, tzinfo=datetime.timezone.utc))\n",
            "(3, 'Estudo: Meio Ambiente', 'estudo', 'Grupo de estudo sobre meio ambiente', datetime.datetime(2025, 10, 9, 15, 52, 41, 391052, tzinfo=datetime.timezone.utc), datetime.datetime(2025, 10, 9, 15, 52, 41, 391052, tzinfo=datetime.timezone.utc))\n",
            "(4, 'Estudo: Línguas', 'estudo', 'Grupo de estudo de idiomas', datetime.datetime(2025, 10, 9, 15, 52, 41, 391052, tzinfo=datetime.timezone.utc), datetime.datetime(2025, 10, 9, 15, 52, 41, 391052, tzinfo=datetime.timezone.utc))\n",
            "(5, 'Trabalho: Comunicação', 'estudo', 'Célula de comunicação', datetime.datetime(2025, 10, 9, 15, 52, 41, 391052, tzinfo=datetime.timezone.utc), datetime.datetime(2025, 10, 9, 15, 52, 41, 391052, tzinfo=datetime.timezone.utc))\n",
            "(6, 'Trabalho: Desenvolvimento', 'estudo', 'Célula de desenvolvimento de software', datetime.datetime(2025, 10, 9, 15, 52, 41, 391052, tzinfo=datetime.timezone.utc), datetime.datetime(2025, 10, 9, 15, 52, 41, 391052, tzinfo=datetime.timezone.utc))\n",
            "(7, 'Trabalho: Pesquisa de Campo', 'estudo', 'Célula de pesquisa de campo', datetime.datetime(2025, 10, 9, 15, 52, 41, 391052, tzinfo=datetime.timezone.utc), datetime.datetime(2025, 10, 9, 15, 52, 41, 391052, tzinfo=datetime.timezone.utc))\n",
            "(8, 'Trabalho: Eventos', 'estudo', 'Célula de organização de eventos', datetime.datetime(2025, 10, 9, 15, 52, 41, 391052, tzinfo=datetime.timezone.utc), datetime.datetime(2025, 10, 9, 15, 52, 41, 391052, tzinfo=datetime.timezone.utc))\n"
          ]
        }
      ],
      "source": [
        "DBUSER = \"meu_nome\" #@param {type:\"string\"}\n",
        "DBKEY = \"senha123\"\n",
        "DBNAME = DBUSER\n",
        "IP = \"34.63.204.77\"\n",
        "PORT = 5432\n",
        "\n",
        "if not DBNAME in [\"kaique_barros\", \"matheus_goncalves\", \"carla_de_jesus\", \"david_lima\", \"vitoria_lima\", \"gustavo_kiyoshi\", \"sophia_nishimura\", \"moabe_silva\", \"marlon_brenno\", \"rafael_vidal\"]:\n",
        "  print(\"ERRO: Leia as instruções acima e insira um nome de usuário válido\")\n",
        "else:\n",
        "  print(\"Tudo certo!\\n\")\n",
        "\n",
        "  from sqlalchemy import create_engine, text\n",
        "  from sqlalchemy.exc import SQLAlchemyError, ResourceClosedError\n",
        "\n",
        "  engine = create_engine(\n",
        "      f\"postgresql+psycopg2://{DBUSER}:{DBKEY}@{IP}:{PORT}/{DBNAME}\",\n",
        "      future=True\n",
        "  )\n",
        "  with engine.connect() as conn:\n",
        "      conn.execute(text(\"SET search_path TO plataforma;\"))\n",
        "      rows = conn.execute(text('SELECT * FROM grupo LIMIT 10;')).all()\n",
        "      for r in rows:\n",
        "          print(r)"
      ]
    },
    {
      "cell_type": "markdown",
      "source": [
        "**Se quiser** explorar o banco de dados pode usar a estrutura de código abaixo:"
      ],
      "metadata": {
        "id": "xVmbsWoGtwVV"
      }
    },
    {
      "cell_type": "code",
      "source": [
        "with engine.connect().execution_options(isolation_level=\"AUTOCOMMIT\") as conn:\n",
        "    conn.execute(text(\"SET search_path TO plataforma;\"))\n",
        "    while True:\n",
        "        print(\"Digite uma query:\")\n",
        "        query = input()\n",
        "        if query.lower().strip() == \"exit\":\n",
        "            break\n",
        "        try:\n",
        "            result = conn.execute(text(query))\n",
        "            # Alguns comandos retornam linhas (SELECT, SHOW, etc.)\n",
        "            if result.returns_rows:\n",
        "                rows = result.fetchall()\n",
        "                for r in rows:\n",
        "                    print(r)\n",
        "            else:\n",
        "                print(\"✅ Comando executado com sucesso (sem retorno).\")\n",
        "                conn.commit()\n",
        "        except ResourceClosedError:\n",
        "            print(\"✅ Comando executado (sem retorno).\")\n",
        "        except Exception as e:\n",
        "            print(\"❌ Erro:\", e)\n",
        "            conn.rollback()\n"
      ],
      "metadata": {
        "id": "8TXgOyihtt5c",
        "colab": {
          "base_uri": "https://localhost:8080/"
        },
        "outputId": "27d78aad-5063-4c87-8e68-c5fffff24c59"
      },
      "execution_count": null,
      "outputs": [
        {
          "name": "stdout",
          "output_type": "stream",
          "text": [
            "Digite uma query:\n",
            "SELECT * FROM encontro\n",
            "(8, 11, datetime.datetime(2025, 10, 9, 17, 0, tzinfo=datetime.timezone.utc), datetime.datetime(2025, 10, 9, 19, 0, tzinfo=datetime.timezone.utc), 'Discussão sobre o novo projeto', 'Planejar as próximas etapas e divisão de tarefas', None, datetime.datetime(2025, 10, 9, 15, 15, 12, 18163, tzinfo=datetime.timezone.utc), datetime.datetime(2025, 10, 9, 15, 15, 12, 18163, tzinfo=datetime.timezone.utc))\n",
            "(11, 11, datetime.datetime(2025, 10, 10, 17, 0, tzinfo=datetime.timezone.utc), datetime.datetime(2025, 10, 10, 19, 0, tzinfo=datetime.timezone.utc), 'Discussão sobre o novo projeto 2', 'Planejar as próximas etapas e divisão de tarefas', None, datetime.datetime(2025, 10, 9, 15, 18, 47, 47828, tzinfo=datetime.timezone.utc), datetime.datetime(2025, 10, 9, 15, 18, 47, 47828, tzinfo=datetime.timezone.utc))\n",
            "Digite uma query:\n",
            "exit\n"
          ]
        }
      ]
    },
    {
      "cell_type": "markdown",
      "source": [
        "**Busque seu nome e veja a função que você deve criar:**\n",
        "\n",
        "- 03a: criar_grupo(executado_por, nome, tipo, descricao) **Kaique Barros**\n",
        "\n",
        ">    Cria uma linha na tabela 'grupo', tipo e descrição são opcionais pois tem valor default.\n",
        "\n",
        "- 03b: criar_ocorrencia(executado_por, semestre, grupo) **Matheus Gonçalves**\n",
        "\n",
        ">    Cria uma linha na tabela 'ocorreu', todos os parâmetros são obrigatórios.\n",
        "\n",
        "- 05: agendar_encontro(executado_por, ocorrencia, inicio, fim, tema, resumo) **Rafael Vidal**\n",
        "\n",
        ">    Cria uma linha na tabela 'encontro', resumo é opcional com default null.\n",
        "\n",
        "- 07: criar_tarefa(executado_por, ocorrencia, horas, inicio, fim, tema, resumo, video) **Carla de Jesus**\n",
        "\n",
        ">    Cria uma linha na tabela 'tarefa', resumo e vídeo são opcionais com default null.\n",
        "\n",
        "- 09: vai_apresentar(executado_por, participante, encontro) **David Lima**\n",
        "\n",
        ">    Cria uma linha na tabela 'apresentou', todos os parâmetros são obrigatórios.\n",
        "\n",
        "- 11: confirmar_apresentacao(executado_por, apresentou_id, horas) **Vitoria Lima**\n",
        "\n",
        ">    Atualiza a tabela apresentou, definindo confirmado como true. Horas é opicional, se não for null atualize as horas da linha, caso contrário mantenha esta coluna como está.\n"
      ],
      "metadata": {
        "id": "A8JaveOGTe32"
      }
    },
    {
      "cell_type": "markdown",
      "source": [
        "**DICA:** Veja o fim deste notebook, você vai encontrar:\n",
        "\n",
        "- Um exemplo, o procedimento 05 resolvido;\n",
        "- Uma célula para formatar seu banco de dados, caso tenha problemas."
      ],
      "metadata": {
        "id": "IVtQIVapuBFQ"
      }
    },
    {
      "cell_type": "markdown",
      "source": [
        "**Crie abaixo sua função:**"
      ],
      "metadata": {
        "id": "mLmDYn2bu7Vg"
      }
    },
    {
      "cell_type": "code",
      "source": [
        "meu_query = \"\"\"\n",
        "\n",
        "\n",
        "-- Descrição do procedure\n",
        "\n",
        "\n",
        "CREATE OR REPLACE PROCEDURE nome_do_procedure(\n",
        "  IN in_executado_por INT,  -- Todos os procedimentos devem receber este no primeiro parâmetro\n",
        "  IN in_param         INT,\n",
        "  IN in_param2        TEXT\n",
        ")\n",
        "LANGUAGE plpgsql\n",
        "AS $procedure$\n",
        "DECLARE\n",
        "  v_var1 NUMERIC := 0;\n",
        "  v_var2 NUMERIC := 0;\n",
        "BEGIN\n",
        "    -- ... suas operações aqui ...\n",
        "\n",
        "  INSERT INTO log (rotulo, dados)\n",
        "  VALUES (\n",
        "    'nome_da_procedure',                  -- Mesmo nome do procedimento\n",
        "    jsonb_build_object(\n",
        "      'executado_por', in_executado_por,\n",
        "      'param1',        in_param,\n",
        "      'param2',        in_param2\n",
        "    )\n",
        "  );\n",
        "END;\n",
        "$$;\n",
        "\n",
        "\n",
        "\"\"\"\n",
        "\n",
        "try:\n",
        "    with engine.begin() as conn:  # <-- COMMIT automático no final do bloco\n",
        "        conn.execute(text(\"SET search_path TO plataforma\"))\n",
        "        conn.execute(text(meu_query))\n",
        "        # Opcional: ver o search_path efetivo\n",
        "        print(conn.execute(text(\"SHOW search_path\")).scalar())\n",
        "    print(\"✅ Procedure criada (commit feito).\")\n",
        "except SQLAlchemyError as e:\n",
        "    print(\"❌ Erro ao criar a procedure:\", e)\n",
        "\n",
        "with engine.connect().execution_options(isolation_level=\"AUTOCOMMIT\") as conn:\n",
        "    conn.execute(text(\"SET search_path TO plataforma;\"))\n",
        "\n",
        "    print(\"\\n-------- EXECUTANDO O PROCEDIMENTO --------\\n\")\n",
        "\n",
        "    conn.execute(text(\"\"\"\n",
        "\n",
        "CALL nome_do_procedure(1, 2, 'param2');                                                          -- NÃO ESQUEÇA DE PREENCHER O NOME DO PROCEDURE\n",
        "\n",
        "    \"\"\"))\n",
        "\n",
        "    print(\"\\n-------- TESTANDO RESULTADO --------\\n\")\n",
        "\n",
        "    rows = conn.execute(text('SELECT * FROM tabela_afetada ORDER BY id DESC LIMIT 10;')).all()    # NÃO ESQUEÇA DE PREENCHER O NOME DA TABELA AFETADA PELO PROCEDURE\n",
        "    for r in rows:\n",
        "        print(r)\n",
        "\n",
        "    print(\"\\n-------- TESTANDO LOG --------\\n\")\n",
        "\n",
        "    rows = conn.execute(text('SELECT * FROM log ORDER BY id DESC LIMIT 10;')).all()\n",
        "    for r in rows:\n",
        "        print(r)"
      ],
      "metadata": {
        "id": "8Bu6WTYSku3r"
      },
      "execution_count": null,
      "outputs": []
    },
    {
      "cell_type": "markdown",
      "source": [
        "**Após fazer os testes, use o código abaixo para fazer download da função.**\n",
        "\n",
        "Envie o arquivo no nosso grupo de WhatsApp"
      ],
      "metadata": {
        "id": "m5BxoZ9zpVqD"
      }
    },
    {
      "cell_type": "code",
      "source": [
        "# Parâmetro: nome do arquivo (sem .sql)\n",
        "nome_funcao = \"nome da função\"  #@param {type:\"string\"}\n",
        "\n",
        "import re, os, io\n",
        "\n",
        "try:\n",
        "    _conteudo = meu_query\n",
        "except NameError:\n",
        "    raise RuntimeError(\"A variável `meu_query` não foi definida nesta sessão do Colab.\")\n",
        "\n",
        "conteudo_limpo = _conteudo.strip(\"\\n\")\n",
        "if not conteudo_limpo.endswith(\"\\n\"):\n",
        "    conteudo_limpo += \"\\n\"\n",
        "\n",
        "if not nome_funcao:\n",
        "    raise ValueError(\"`nome_funcao` ficou vazio.\")\n",
        "\n",
        "destino = f\"/content/{nome_funcao}.sql\"\n",
        "\n",
        "with io.open(destino, \"w\", encoding=\"utf-8\") as f:\n",
        "    f.write(\"SET search_path TO plataforma;\\n\\n\"+conteudo_limpo)\n",
        "\n",
        "print(f\"✅ Salvo em: {destino}  (tamanho: {os.path.getsize(destino)} bytes)\")\n",
        "\n",
        "# --- força download no Colab ---\n",
        "try:\n",
        "    from google.colab import files\n",
        "    files.download(destino)\n",
        "except Exception as e:\n",
        "    print(\"⚠️ Não consegui iniciar o download automático. Baixe manualmente em:\", destino, \"\\nDetalhes:\", e)\n"
      ],
      "metadata": {
        "colab": {
          "base_uri": "https://localhost:8080/",
          "height": 34
        },
        "id": "9uUD9tD6oCju",
        "outputId": "1f93f8a2-e771-4abf-cf7a-ce532afa08b7"
      },
      "execution_count": null,
      "outputs": [
        {
          "output_type": "stream",
          "name": "stdout",
          "text": [
            "✅ Salvo em: /content/nome da função.sql  (tamanho: 1638 bytes)\n"
          ]
        },
        {
          "output_type": "display_data",
          "data": {
            "text/plain": [
              "<IPython.core.display.Javascript object>"
            ],
            "application/javascript": [
              "\n",
              "    async function download(id, filename, size) {\n",
              "      if (!google.colab.kernel.accessAllowed) {\n",
              "        return;\n",
              "      }\n",
              "      const div = document.createElement('div');\n",
              "      const label = document.createElement('label');\n",
              "      label.textContent = `Downloading \"${filename}\": `;\n",
              "      div.appendChild(label);\n",
              "      const progress = document.createElement('progress');\n",
              "      progress.max = size;\n",
              "      div.appendChild(progress);\n",
              "      document.body.appendChild(div);\n",
              "\n",
              "      const buffers = [];\n",
              "      let downloaded = 0;\n",
              "\n",
              "      const channel = await google.colab.kernel.comms.open(id);\n",
              "      // Send a message to notify the kernel that we're ready.\n",
              "      channel.send({})\n",
              "\n",
              "      for await (const message of channel.messages) {\n",
              "        // Send a message to notify the kernel that we're ready.\n",
              "        channel.send({})\n",
              "        if (message.buffers) {\n",
              "          for (const buffer of message.buffers) {\n",
              "            buffers.push(buffer);\n",
              "            downloaded += buffer.byteLength;\n",
              "            progress.value = downloaded;\n",
              "          }\n",
              "        }\n",
              "      }\n",
              "      const blob = new Blob(buffers, {type: 'application/binary'});\n",
              "      const a = document.createElement('a');\n",
              "      a.href = window.URL.createObjectURL(blob);\n",
              "      a.download = filename;\n",
              "      div.appendChild(a);\n",
              "      a.click();\n",
              "      div.remove();\n",
              "    }\n",
              "  "
            ]
          },
          "metadata": {}
        },
        {
          "output_type": "display_data",
          "data": {
            "text/plain": [
              "<IPython.core.display.Javascript object>"
            ],
            "application/javascript": [
              "download(\"download_75c4dc38-1777-4fd6-bf07-f7d7383125aa\", \"nome da fun\\u00e7\\u00e3o.sql\", 1638)"
            ]
          },
          "metadata": {}
        }
      ]
    },
    {
      "cell_type": "markdown",
      "source": [
        "# Exemplo: o procedimento 05 resolvido"
      ],
      "metadata": {
        "id": "dxky-mXNvBVn"
      }
    },
    {
      "cell_type": "code",
      "source": [
        "from sqlalchemy.exc import SQLAlchemyError\n",
        "\n",
        "meu_query = \"\"\"\n",
        "\n",
        "\n",
        "-- agendar_encontro(executado_por, ocorrencia, inicio, fim, tema, resumo)\n",
        "-- Cria uma linha na tabela 'encontro', resumo é opcional com default null.\n",
        "\n",
        "\n",
        "CREATE OR REPLACE PROCEDURE agendar_encontro(\n",
        "  IN in_executado_por INT,\n",
        "  IN in_ocorrencia    INT,\n",
        "  IN in_inicio        TIMESTAMPTZ,\n",
        "  IN in_fim           TIMESTAMPTZ,\n",
        "  IN in_tema          VARCHAR(255),\n",
        "  IN in_resumo        TEXT DEFAULT NULL\n",
        ")\n",
        "LANGUAGE plpgsql\n",
        "SET search_path = plataforma\n",
        "AS $$\n",
        "BEGIN\n",
        "  IF NOT (in_fim > in_inicio) THEN\n",
        "    RAISE EXCEPTION 'O horário de término deve ser maior que o de início';\n",
        "  END IF;\n",
        "\n",
        "  IF in_resumo IS NULL THEN                                             -- Neste caso esse IF não era necessário, mas fique atento ao valor DEFAULT da tabela.\n",
        "    INSERT INTO plataforma.encontro (ocorrencia, inicio, fim, tema)     -- Se o valor DEFAULT da tabela **não** for NULL este IF é necessário.\n",
        "    VALUES (in_ocorrencia, in_inicio, in_fim, in_tema);\n",
        "  ELSE\n",
        "    INSERT INTO plataforma.encontro (ocorrencia, inicio, fim, tema, resumo)   -- Veja que o in_executado_por não entra aqui\n",
        "    VALUES (in_ocorrencia, in_inicio, in_fim, in_tema, in_resumo);\n",
        "  END IF;\n",
        "\n",
        "  INSERT INTO plataforma.log (rotulo, dados)\n",
        "  VALUES (\n",
        "    'agendar_encontro',                     -- Mesmo nome do procedimento\n",
        "    jsonb_build_object(\n",
        "      'executado_por', in_executado_por,\n",
        "      'ocorrencia',    in_ocorrencia,\n",
        "      'inicio',        in_inicio,\n",
        "      'fim',           in_fim,\n",
        "      'tema',          in_tema,\n",
        "      'resumo',        in_resumo            -- Os parâmetros opcionais devem ser incluídos aqui\n",
        "    )\n",
        "  );\n",
        "END;\n",
        "$$;\n",
        "\n",
        "\n",
        "\"\"\"\n",
        "\n",
        "try:\n",
        "    with engine.begin() as conn:  # <-- COMMIT automático no final do bloco\n",
        "        conn.execute(text(\"SET search_path TO plataforma\"))\n",
        "        conn.execute(text(meu_query))\n",
        "        print(conn.execute(text(\"SHOW search_path\")).scalar())\n",
        "    print(\"✅ Procedure criada (commit feito).\")\n",
        "except SQLAlchemyError as e:\n",
        "    print(\"❌ Erro ao criar a procedure:\", e)\n",
        "\n",
        "with engine.connect().execution_options(isolation_level=\"AUTOCOMMIT\") as conn:  # <-- SEM COMMIT automático no final do bloco\n",
        "    conn.execute(text(\"SET search_path TO plataforma;\"))\n",
        "\n",
        "    print(\"\\n-------- EXECUTANDO O PROCEDIMENTO --------\\n\")\n",
        "\n",
        "    conn.execute(text(\"\"\"\n",
        "\n",
        "CALL agendar_encontro(\n",
        "  1,                                                              -- executado_por\n",
        "  11,                                                             -- ocorrencia\n",
        "  TIMESTAMPTZ '2025-10-10 14:00:00-03',                           -- inicio\n",
        "  TIMESTAMPTZ '2025-10-10 16:00:00-03',                           -- fim\n",
        "  'Discussão sobre o novo projeto 2',                             -- tema\n",
        "  'Planejar as próximas etapas e divisão de tarefas'              -- resumo\n",
        ");\n",
        "\n",
        "    \"\"\"))\n",
        "\n",
        "    print(\"\\n-------- TESTANDO RESULTADO --------\\n\")\n",
        "\n",
        "    rows = conn.execute(text('SELECT * FROM encontro ORDER BY id DESC LIMIT 10;')).all()\n",
        "    for r in rows:\n",
        "        print(r)\n",
        "\n",
        "    print(\"\\n-------- TESTANDO LOG --------\\n\")\n",
        "\n",
        "    rows = conn.execute(text('SELECT * FROM log ORDER BY id DESC LIMIT 10;')).all()\n",
        "    for r in rows:\n",
        "        print(r)"
      ],
      "metadata": {
        "id": "863ssz3RvAvB",
        "colab": {
          "base_uri": "https://localhost:8080/"
        },
        "outputId": "046a7f6a-f519-422a-eb49-7d96a78847c2"
      },
      "execution_count": null,
      "outputs": [
        {
          "output_type": "stream",
          "name": "stdout",
          "text": [
            "plataforma\n",
            "✅ Procedure criada (commit feito).\n",
            "\n",
            "-------- EXECUTANDO O PROCEDIMENTO --------\n",
            "\n",
            "\n",
            "-------- TESTANDO RESULTADO --------\n",
            "\n",
            "(11, 11, datetime.datetime(2025, 10, 10, 17, 0, tzinfo=datetime.timezone.utc), datetime.datetime(2025, 10, 10, 19, 0, tzinfo=datetime.timezone.utc), 'Discussão sobre o novo projeto 2', 'Planejar as próximas etapas e divisão de tarefas', None, datetime.datetime(2025, 10, 9, 15, 18, 47, 47828, tzinfo=datetime.timezone.utc), datetime.datetime(2025, 10, 9, 15, 18, 47, 47828, tzinfo=datetime.timezone.utc))\n",
            "(8, 11, datetime.datetime(2025, 10, 9, 17, 0, tzinfo=datetime.timezone.utc), datetime.datetime(2025, 10, 9, 19, 0, tzinfo=datetime.timezone.utc), 'Discussão sobre o novo projeto', 'Planejar as próximas etapas e divisão de tarefas', None, datetime.datetime(2025, 10, 9, 15, 15, 12, 18163, tzinfo=datetime.timezone.utc), datetime.datetime(2025, 10, 9, 15, 15, 12, 18163, tzinfo=datetime.timezone.utc))\n",
            "\n",
            "-------- TESTANDO LOG --------\n",
            "\n",
            "(3, datetime.datetime(2025, 10, 9, 15, 18, 47, 47828, tzinfo=datetime.timezone.utc), 'agendar_encontro', {'fim': '2025-10-10T19:00:00+00:00', 'tema': 'Discussão sobre o novo projeto 2', 'inicio': '2025-10-10T17:00:00+00:00', 'resumo': 'Planejar as próximas etapas e divisão de tarefas', 'ocorrencia': 11, 'executado_por': 1})\n",
            "(2, datetime.datetime(2025, 10, 9, 15, 15, 12, 18163, tzinfo=datetime.timezone.utc), 'agendar_encontro', {'fim': '2025-10-09T19:00:00+00:00', 'tema': 'Discussão sobre o novo projeto', 'inicio': '2025-10-09T17:00:00+00:00', 'resumo': 'Planejar as próximas etapas e divisão de tarefas', 'ocorrencia': 11, 'executado_por': 1})\n"
          ]
        }
      ]
    },
    {
      "cell_type": "markdown",
      "source": [
        "# Formatar o banco de dados"
      ],
      "metadata": {
        "id": "gVvnchhTvL_u"
      }
    },
    {
      "cell_type": "code",
      "source": [
        "import os\n",
        "\n",
        "os.environ[\"IP\"] = IP\n",
        "os.environ[\"DATABASE\"] = DBNAME\n",
        "os.environ[\"PGUSER\"] = DBUSER\n",
        "os.environ[\"DBKEY\"] = DBKEY"
      ],
      "metadata": {
        "id": "BBk9O4RZvQjc"
      },
      "execution_count": null,
      "outputs": []
    },
    {
      "cell_type": "code",
      "source": [
        "%%bash\n",
        "DEST=\"/tmp/postgreSQL\"\n",
        "mkdir -p \"$DEST\"\n",
        "cd \"$DEST\"\n",
        "\n",
        "# === garante psql\n",
        "if ! command -v psql >/dev/null 2>&1; then\n",
        "  apt-get update -qq\n",
        "  apt-get install -y -qq postgresql-client >/dev/null\n",
        "fi\n",
        "\n",
        "# === jq (para parsear JSON da API do GitHub) ===\n",
        "if ! command -v jq >/dev/null 2>&1; then\n",
        "  apt-get update -qq && apt-get install -y -qq jq >/dev/null\n",
        "fi\n",
        "\n",
        "# === 1) Baixar todos os .sql da pasta do GitHub (sem quebrar espaços) ===\n",
        "curl -s \"https://api.github.com/repos/rafavidal1709/mack-ai-plataforma/contents/postgreSQL\" \\\n",
        "| jq -r '.[] | select(.name|endswith(\".sql\")) | [.name, .download_url] | @tsv' \\\n",
        "| sort -k1,1 \\\n",
        "| while IFS=$'\\t' read -r name url; do\n",
        "  echo \"Baixando: $name\"\n",
        "  wget -q -O \"$name\" \"$url\"\n",
        "done\n",
        "\n",
        "# === 2) Executar os arquivos em ordem alfabética ===\n",
        "ls -1 *.sql | sort | while IFS= read -r file; do\n",
        "  echo \"Executando: $file\"\n",
        "  PGPASSWORD=\"$DBKEY\" psql -h \"$IP\" -U \"$PGUSER\" -d \"$DATABASE\" -f \"$file\"\n",
        "done"
      ],
      "metadata": {
        "id": "nVh2aTlAyPZe"
      },
      "execution_count": null,
      "outputs": []
    }
  ]
}